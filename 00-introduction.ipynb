{
 "cells": [
  {
   "cell_type": "markdown",
   "metadata": {},
   "source": [
    "# Overview\n",
    "To setup for this week's coding activities, we'll need to do two things:\n",
    "- Check your Python version. If you're not using Python 3.6 or greater, you'll need to create a **conda environment** following [instructions on Canvas](https://uvu.instructure.com/courses/494453/pages/how-to-create-a-conda-environment)\n",
    "- Install the Python packages [**spaCy**](https://spacy.io/) and [**cycontext**](https://github.com/medspacy/cycontext)\n",
    "- Download two trained NLP models\n",
    "\n",
    "Open up your terminal (**Anaconda Prompt** for Windows, **Terminal** for Mac) and let's get started!\n",
    "\n",
    "### Check your Python version\n",
    "Some of the computers in the classroom lab used Python 2.7, which is no longer supported by most Python libraries. However, now that we're all working from home you probably have a more up-to-date version of Anaconda installed, which will use Python 3.7 by default.\n",
    "\n",
    "In your terminal, type the following command to get your Python version:\n",
    "```bash\n",
    "python -V\n",
    "```\n",
    "\n",
    "When I execute this command, I get this value back:\n",
    "```\n",
    "Python 3.7.3\n",
    "```\n",
    "\n",
    "This shows that I am using **Python 3.7**. If you get either **3.6** or **3.7**, then you should be good! If not, follow the instructions to create a Conda environment. \n",
    "\n",
    "### Python packages\n",
    "First, download the two Python libraries which we'll be using, spaCy and cycontext:\n",
    "\n",
    "```bash\n",
    "pip install spacy\n",
    "\n",
    "pip install cycontext\n",
    "```\n",
    "\n",
    "### Trained NLP models\n",
    "Next, download the NLP models which we will be using:\n",
    "```bash\n",
    "python -m spacy download en_core_web_sm\n",
    "\n",
    "pip install https://github.com/abchapman93/spacy_models/raw/master/releases/en_info_3700_i2b2_2012-0.1.0/dist/en_info_3700_i2b2_2012-0.1.0.tar.gz\n",
    "```\n",
    "\n",
    "Now let's import these modules and make sure everything works."
   ]
  },
  {
   "cell_type": "code",
   "execution_count": 1,
   "metadata": {},
   "outputs": [],
   "source": [
    "import spacy"
   ]
  },
  {
   "cell_type": "code",
   "execution_count": 2,
   "metadata": {},
   "outputs": [],
   "source": [
    "import cycontext"
   ]
  },
  {
   "cell_type": "code",
   "execution_count": 3,
   "metadata": {},
   "outputs": [
    {
     "data": {
      "text/plain": [
       "<spacy.lang.en.English at 0x1196f6da0>"
      ]
     },
     "execution_count": 3,
     "metadata": {},
     "output_type": "execute_result"
    }
   ],
   "source": [
    "spacy.load(\"en_core_web_sm\")"
   ]
  },
  {
   "cell_type": "code",
   "execution_count": 4,
   "metadata": {},
   "outputs": [
    {
     "data": {
      "text/plain": [
       "<spacy.lang.en.English at 0x11bd80fd0>"
      ]
     },
     "execution_count": 4,
     "metadata": {},
     "output_type": "execute_result"
    }
   ],
   "source": [
    "spacy.load(\"en_info_3700_i2b2_2012\")"
   ]
  },
  {
   "cell_type": "markdown",
   "metadata": {},
   "source": [
    "# Next Steps\n",
    "Now that we have the necessary libraries and models installed, we can start processing text. In the next notebook, we'll get a quick introduction to spaCy, one of the most popular libraries for NLP in Python.\n",
    "\n",
    "[01-intro_spacy.ipynb](01-intro_spacy.ipynb)"
   ]
  },
  {
   "cell_type": "code",
   "execution_count": null,
   "metadata": {},
   "outputs": [],
   "source": []
  }
 ],
 "metadata": {
  "kernelspec": {
   "display_name": "Python 3",
   "language": "python",
   "name": "python3"
  },
  "language_info": {
   "codemirror_mode": {
    "name": "ipython",
    "version": 3
   },
   "file_extension": ".py",
   "mimetype": "text/x-python",
   "name": "python",
   "nbconvert_exporter": "python",
   "pygments_lexer": "ipython3",
   "version": "3.7.3"
  }
 },
 "nbformat": 4,
 "nbformat_minor": 2
}
