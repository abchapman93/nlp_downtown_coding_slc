{
  "nbformat": 4,
  "nbformat_minor": 0,
  "metadata": {
    "kernelspec": {
      "display_name": "Python 3",
      "language": "python",
      "name": "python3"
    },
    "language_info": {
      "codemirror_mode": {
        "name": "ipython",
        "version": 3
      },
      "file_extension": ".py",
      "mimetype": "text/x-python",
      "name": "python",
      "nbconvert_exporter": "python",
      "pygments_lexer": "ipython3",
      "version": "3.7.3"
    },
    "colab": {
      "name": "01-intro_spacy.ipynb",
      "provenance": [],
      "collapsed_sections": [],
      "toc_visible": true,
      "include_colab_link": true
    }
  },
  "cells": [
    {
      "cell_type": "markdown",
      "metadata": {
        "id": "view-in-github",
        "colab_type": "text"
      },
      "source": [
        "<a href=\"https://colab.research.google.com/github/abchapman93/nlp_downtown_coding_slc/blob/master/01_intro_spacy.ipynb\" target=\"_parent\"><img src=\"https://colab.research.google.com/assets/colab-badge.svg\" alt=\"Open In Colab\"/></a>"
      ]
    },
    {
      "cell_type": "code",
      "metadata": {
        "id": "05JmvqfangMW",
        "colab_type": "code",
        "colab": {}
      },
      "source": [
        "import spacy\n",
        "from IPython.core import display\n",
        "from IPython.display import SVG, HTML\n",
        "from spacy import displacy"
      ],
      "execution_count": 0,
      "outputs": []
    },
    {
      "cell_type": "markdown",
      "metadata": {
        "id": "b9flACBRngMb",
        "colab_type": "text"
      },
      "source": [
        "# I. Intro to spaCy\n",
        "One very popular tool for NLP is `spaCy`. SpaCy offers many out-of-the-box tools for processing and analyzing text, and the spaCy framework allows users to extend the models for their own purposes. SpaCy consists mostly of **statistical NLP** models. In statistical models, a large corpus of text is processed and mathematical methods are used to identify patterns in the corpus. This process is called **training**. Once a model has been trained, we can use it to analyze new text. But as we'll see, we can also use spaCy to implement sophisticated rules and custom logic. \n",
        "\n",
        "SpaCy comes with several pre-trained models, meaning that we can quickly load a model which has been trained on large amounts of data. This way, we can take advantage of work which has already been done by spaCy developers and focus on our own NLP tasks. Additionally, members of the open-source spaCy community can train and publish their own models.\n",
        "\n",
        "## spaCy documentation\n",
        "\n",
        "spaCy has great documentation. As we're going along today, try browsing through their documentation to find examples and instructions. Start by opening up these two pages and navigating through the documentation:\n",
        "\n",
        "[Basic spaCy usage](https://spacy.io/usage/models)\n",
        "\n",
        "[API documentation](https://spacy.io/api)\n",
        "\n",
        "spaCy also has a really good, free online class. If you want to dig deeper into spaCy after this class, it's a great resource for using this library:\n",
        "https://course.spacy.io/\n",
        "\n",
        "It's also available on DataCamp (the first two chapters will be assigned for homework): https://learn.datacamp.com/courses/advanced-nlp-with-spacy\n"
      ]
    },
    {
      "cell_type": "markdown",
      "metadata": {
        "id": "-2WDYvTZngMc",
        "colab_type": "text"
      },
      "source": [
        "# II. Basic usage of spaCy\n",
        "\n",
        "\n",
        "In this notebook, we'll look at the basic fundamentals of spaCy:\n",
        "- Main classes in spaCy\n",
        "- Linguistic attributes \n",
        "- Named entity recognition (NER)"
      ]
    },
    {
      "cell_type": "markdown",
      "metadata": {
        "id": "phl89-3wngMd",
        "colab_type": "text"
      },
      "source": [
        "## How to use spaCy\n",
        "At a high-level, here are the steps for using spaCy:\n",
        "- Start by loading a pre-trained NLP model\n",
        "- Process a string of text with the model\n",
        "- Use the attributes in our processed documents for downstream NLP tasks like NER or document classification\n",
        "\n",
        "For example, here's a very short example of how this works. For the sake of demonstration, we'll use this snippet of a recent, exciting news article:"
      ]
    },
    {
      "cell_type": "code",
      "metadata": {
        "id": "6LCYhA04ngMe",
        "colab_type": "code",
        "colab": {}
      },
      "source": [
        "# First, load a pre-trained model\n",
        "nlp = spacy.load(\"en_core_web_sm\")"
      ],
      "execution_count": 0,
      "outputs": []
    },
    {
      "cell_type": "code",
      "metadata": {
        "id": "cFf6P3DvngMh",
        "colab_type": "code",
        "colab": {}
      },
      "source": [
        "# Process a string of text with the model\n",
        "text = \"\"\"Taco Bell’s latest marketing venture, a pop-up hotel, opened at 10 a.m. Pacific Time Thursday. \n",
        "The rooms sold out within two minutes.\n",
        "The resort has been called “The Bell: A Taco Bell Hotel and Resort.” It’s located in Palm Springs, California.\"\"\"\n",
        "\n",
        "doc = nlp(text)\n",
        "doc"
      ],
      "execution_count": 0,
      "outputs": []
    },
    {
      "cell_type": "code",
      "metadata": {
        "id": "nHxTBLpUngMk",
        "colab_type": "code",
        "colab": {}
      },
      "source": [
        "# Use the attributes in our processed documents for downstream NLP tasks\n",
        "# Here, we'll visualize the entities in this text identified through NER\n",
        "HTML(displacy.render(doc, style=\"ent\"))"
      ],
      "execution_count": 0,
      "outputs": []
    },
    {
      "cell_type": "markdown",
      "metadata": {
        "id": "LQEOqNtBngMn",
        "colab_type": "text"
      },
      "source": [
        "Let's dive a little deeper into how spaCy is structured and what we have to work with."
      ]
    },
    {
      "cell_type": "markdown",
      "metadata": {
        "id": "zlibPUe_ngMo",
        "colab_type": "text"
      },
      "source": [
        "## SpaCy Architecture\n",
        "The [spaCy documentation](https://spacy.io/api) offers a detailed description of the package's architecture. In this notebook, we'll focus on these 5 classes:\n",
        "- `Language`: The NLP model used to process text\n",
        "- `Doc`: A sequence of text which has been processed by a `Language` object\n",
        "- `Token`: A single word or symbol in a Doc\n",
        "- `Span`: A slice from a Doc\n",
        "- `EntityRecognizer`: A model which extracts mentions of **named entities** from text"
      ]
    },
    {
      "cell_type": "markdown",
      "metadata": {
        "id": "EpMo8EXhngMo",
        "colab_type": "text"
      },
      "source": [
        "# `nlp`\n",
        "The `nlp` object in spaCy is the linguistic model which will be used for processing text. We instantiate a `Language` class by providing the name of a pre-trained model which we wish to use. We typically name this object `nlp`, and this will be our primary entry point.\n"
      ]
    },
    {
      "cell_type": "code",
      "metadata": {
        "id": "qu5z1-gRngMp",
        "colab_type": "code",
        "colab": {}
      },
      "source": [
        "nlp = spacy.load(\"en_core_web_sm\")\n",
        "nlp"
      ],
      "execution_count": 0,
      "outputs": []
    },
    {
      "cell_type": "markdown",
      "metadata": {
        "id": "_F6gKuCvngMt",
        "colab_type": "text"
      },
      "source": [
        "The `nlp` model we instantiated above is a **small** (\"sm\"), **English** (\"en\")-language model trained on **web** (\"web\") data, but there are currently 16 different models from 9 different languages. See the [spaCy documentation](https://spacy.io/usage/models) for more information on each of the models."
      ]
    },
    {
      "cell_type": "markdown",
      "metadata": {
        "id": "ZC-CY8SVngMt",
        "colab_type": "text"
      },
      "source": [
        "# Documents, spans and tokens\n",
        "The `nlp` object is what we'll be using to process text. The next few classes represent the output of our NLP model."
      ]
    },
    {
      "cell_type": "markdown",
      "metadata": {
        "id": "Nq6T1nkAngMu",
        "colab_type": "text"
      },
      "source": [
        "## `Doc` class\n",
        "The `doc` object represents a single document of text. To create a `doc` object, we call `nlp` on a string of text. This runs that text through a spaCy pipeline, which we'll learn more about in a future notebook."
      ]
    },
    {
      "cell_type": "code",
      "metadata": {
        "id": "KFx586aJngMv",
        "colab_type": "code",
        "colab": {}
      },
      "source": [
        "text = 'Taco Bell’s latest marketing venture, a pop-up hotel, opened at 10 a.m. Pacific Time Thursday.'"
      ],
      "execution_count": 0,
      "outputs": []
    },
    {
      "cell_type": "code",
      "metadata": {
        "id": "5YGN_ho7ngMx",
        "colab_type": "code",
        "colab": {}
      },
      "source": [
        "doc = nlp(text)"
      ],
      "execution_count": 0,
      "outputs": []
    },
    {
      "cell_type": "code",
      "metadata": {
        "id": "Nccl5MEhngM0",
        "colab_type": "code",
        "colab": {}
      },
      "source": [
        "type(doc)"
      ],
      "execution_count": 0,
      "outputs": []
    },
    {
      "cell_type": "code",
      "metadata": {
        "scrolled": true,
        "id": "1xwLvU7kngM2",
        "colab_type": "code",
        "colab": {}
      },
      "source": [
        "print(doc)"
      ],
      "execution_count": 0,
      "outputs": []
    },
    {
      "cell_type": "markdown",
      "metadata": {
        "id": "PftcwRMPngM5",
        "colab_type": "text"
      },
      "source": [
        "## Tokens and Spans\n",
        "### Token\n",
        "A `Token` is a single word, symbol, or whitespace in a `doc`. When we create a `doc` object, the text broken up into individual tokens. This is called **\"tokenization\"**.\n",
        "\n",
        "**Discussion**: Look at the tokens generated from this text snippet. What can you say about the tokenization method? Is it as simple as splitting up into words every time we reach a whitespace?"
      ]
    },
    {
      "cell_type": "code",
      "metadata": {
        "id": "b8rKl87CngM5",
        "colab_type": "code",
        "colab": {}
      },
      "source": [
        "token = doc[0]"
      ],
      "execution_count": 0,
      "outputs": []
    },
    {
      "cell_type": "code",
      "metadata": {
        "id": "32y5pAPwngM9",
        "colab_type": "code",
        "colab": {}
      },
      "source": [
        "token"
      ],
      "execution_count": 0,
      "outputs": []
    },
    {
      "cell_type": "code",
      "metadata": {
        "id": "nyPFLJY2ngM_",
        "colab_type": "code",
        "colab": {}
      },
      "source": [
        "type(token)"
      ],
      "execution_count": 0,
      "outputs": []
    },
    {
      "cell_type": "code",
      "metadata": {
        "id": "6ecjrNJ4ngNC",
        "colab_type": "code",
        "colab": {}
      },
      "source": [
        "for token in doc:\n",
        "    print(token)"
      ],
      "execution_count": 0,
      "outputs": []
    },
    {
      "cell_type": "markdown",
      "metadata": {
        "id": "O9XF3-PSngNF",
        "colab_type": "text"
      },
      "source": [
        "### Span\n",
        "A `Span` is a slice of a document, or a consecutive sequence of tokens."
      ]
    },
    {
      "cell_type": "code",
      "metadata": {
        "id": "gXuSdhx9ngNF",
        "colab_type": "code",
        "colab": {}
      },
      "source": [
        "span = doc[1:4]"
      ],
      "execution_count": 0,
      "outputs": []
    },
    {
      "cell_type": "code",
      "metadata": {
        "id": "Ah0pgvYYngNI",
        "colab_type": "code",
        "colab": {}
      },
      "source": [
        "span"
      ],
      "execution_count": 0,
      "outputs": []
    },
    {
      "cell_type": "code",
      "metadata": {
        "id": "83_G34cYngNM",
        "colab_type": "code",
        "colab": {}
      },
      "source": [
        "type(span)"
      ],
      "execution_count": 0,
      "outputs": []
    },
    {
      "cell_type": "markdown",
      "metadata": {
        "id": "e3eQmnqjngNQ",
        "colab_type": "text"
      },
      "source": [
        "## Linguistic Attributes\n",
        "Because spaCy comes with pre-trained linguistic models, when we call `nlp` on a text we have access to a number of linguistic attributes in the `doc` or `token` objects:\n",
        "\n",
        "- Part-of-speech (POS) tagging\n",
        "- Morphology\n",
        "- Dependency Parsing\n",
        "- Named entity recognition\n",
        "- Sentence splitting\n",
        "- Others"
      ]
    },
    {
      "cell_type": "markdown",
      "metadata": {
        "id": "yGG9cf93ngNQ",
        "colab_type": "text"
      },
      "source": [
        "### POS Tagging\n",
        "Parts of speech are categories of words. For example, \"nouns\", \"verbs\", and \"adjectives\" are all examples of parts of speech. Assigning parts of speech to words is useful for downstream NLP texts such as word sense disambiguation and named entity recognition.\n",
        "\n",
        "**Discussion**: What to the POS tags below mean?"
      ]
    },
    {
      "cell_type": "code",
      "metadata": {
        "id": "1osdn4RTngNR",
        "colab_type": "code",
        "colab": {}
      },
      "source": [
        "print(f\"Token -> POS\\n\")\n",
        "for token in doc:\n",
        "    print(f\"{token.text} -> {token.pos_}\")"
      ],
      "execution_count": 0,
      "outputs": []
    },
    {
      "cell_type": "code",
      "metadata": {
        "id": "FBQCshdangNT",
        "colab_type": "code",
        "colab": {}
      },
      "source": [
        "spacy.explain(\"PROPN\")"
      ],
      "execution_count": 0,
      "outputs": []
    },
    {
      "cell_type": "markdown",
      "metadata": {
        "id": "DQu6NnI-ngNV",
        "colab_type": "text"
      },
      "source": [
        "### Lemma\n",
        "The **lemma** of a word refers to the **root form** of a word. For example, \"eat\", \"eats\", and \"ate\" are all different inflections of the lemma \"eat\"."
      ]
    },
    {
      "cell_type": "code",
      "metadata": {
        "id": "YLDqAztLngNY",
        "colab_type": "code",
        "colab": {}
      },
      "source": [
        "print(f\"Token -> Lemma\\n\")\n",
        "for token in doc:\n",
        "    print(f\"{token.text} -> {token.lemma_}\")"
      ],
      "execution_count": 0,
      "outputs": []
    },
    {
      "cell_type": "code",
      "metadata": {
        "id": "rh0lcSAIngNh",
        "colab_type": "code",
        "colab": {}
      },
      "source": [
        ""
      ],
      "execution_count": 0,
      "outputs": []
    },
    {
      "cell_type": "markdown",
      "metadata": {
        "id": "5IIOdhsVngNl",
        "colab_type": "text"
      },
      "source": [
        "# III. NER with spaCy\n",
        "**\"Named Entity Recognition\"** is a subtask of NLP where we extract specific named entities from the text. The definition of a \"named entity\" changes depending on the domain we're working on. We'll look at clinical NER later, but first we'll look at some examples in more general domains.\n",
        "\n",
        "NER is often performed using news articles as source texts. In this case, named entities are typically proper nouns, such as:\n",
        "- People\n",
        "- Geopolitical entities, like countries\n",
        "- Organizations\n",
        "\n",
        "We won't go into the details of how NER is implemented in spaCy. If you want to learn more about NER and various way it's implemented, a great resource is [Chapter 17.1 of Jurafsky and Martin's textbook \"Speech and Language Processing.\"](https://web.stanford.edu/~jurafsky/slp3/17.pdf)"
      ]
    },
    {
      "cell_type": "markdown",
      "metadata": {
        "id": "s8LjXAvFngNm",
        "colab_type": "text"
      },
      "source": [
        "Here is an excerpt from an article in the Guardian. We'll process this document with our nlp object and then look at what entities are extracted. One way to do this is using spaCy's `displacy` package, which visualizes the results of a spaCy pipeline."
      ]
    },
    {
      "cell_type": "code",
      "metadata": {
        "id": "9AlTOxHcngNm",
        "colab_type": "code",
        "colab": {}
      },
      "source": [
        "text = \"\"\"Germany will fight to the last hour to prevent the UK crashing out of the EU without a deal and is willing \n",
        "to hear any fresh ideas for the Irish border backstop, the country’s ambassador to the UK has said.\n",
        "Speaking at a car manufacturers’ summit in London, Peter Wittig said Germany cherished its relationship \n",
        "with the UK and was ready to talk about solutions the new prime minister might have for the Irish border problem.\"\"\""
      ],
      "execution_count": 0,
      "outputs": []
    },
    {
      "cell_type": "code",
      "metadata": {
        "id": "HRrCEMVKngNo",
        "colab_type": "code",
        "colab": {}
      },
      "source": [
        "doc = nlp(text)"
      ],
      "execution_count": 0,
      "outputs": []
    },
    {
      "cell_type": "code",
      "metadata": {
        "id": "8j8x56bdngNq",
        "colab_type": "code",
        "colab": {}
      },
      "source": [
        "HTML(displacy.render(doc, style=\"ent\"))"
      ],
      "execution_count": 0,
      "outputs": []
    },
    {
      "cell_type": "markdown",
      "metadata": {
        "id": "AXiw4m75ngNt",
        "colab_type": "text"
      },
      "source": [
        "We can use spaCy's `explain` function to see definitions of what an entity type is. Look up any entity types that you're not familiar with:"
      ]
    },
    {
      "cell_type": "code",
      "metadata": {
        "id": "J7l1Bet1ngNu",
        "colab_type": "code",
        "colab": {}
      },
      "source": [
        "spacy.explain(\"GPE\")"
      ],
      "execution_count": 0,
      "outputs": []
    },
    {
      "cell_type": "code",
      "metadata": {
        "id": "HvXxAf9HngNw",
        "colab_type": "code",
        "colab": {}
      },
      "source": [
        ""
      ],
      "execution_count": 0,
      "outputs": []
    },
    {
      "cell_type": "markdown",
      "metadata": {
        "id": "dXiI-yKUngNy",
        "colab_type": "text"
      },
      "source": [
        "The last example comes from a political news article, which is pretty typical for what NER is often trained on and used for. Let's look at another news article, this one with a business focus:"
      ]
    },
    {
      "cell_type": "code",
      "metadata": {
        "id": "lwUrlskUngNz",
        "colab_type": "code",
        "colab": {}
      },
      "source": [
        "# Example 2\n",
        "text = \"\"\"Taco Bell’s latest marketing venture, a pop-up hotel, opened at 10 a.m. Pacific Time Thursday. \n",
        "The rooms sold out within two minutes.\n",
        "The resort has been called “The Bell: A Taco Bell Hotel and Resort.” It’s located in Palm Springs, California.\"\"\""
      ],
      "execution_count": 0,
      "outputs": []
    },
    {
      "cell_type": "code",
      "metadata": {
        "id": "LtI2Eo4bngN1",
        "colab_type": "code",
        "colab": {}
      },
      "source": [
        "doc = nlp(text)"
      ],
      "execution_count": 0,
      "outputs": []
    },
    {
      "cell_type": "code",
      "metadata": {
        "id": "tx6gYXqmngN4",
        "colab_type": "code",
        "colab": {}
      },
      "source": [
        "HTML(displacy.render(doc, style=\"ent\"))"
      ],
      "execution_count": 0,
      "outputs": []
    },
    {
      "cell_type": "markdown",
      "metadata": {
        "id": "ZdY6MojpngN6",
        "colab_type": "text"
      },
      "source": [
        "## Discussion\n",
        "Compare how the NER performs on each of these texts. Can you see any errors? Why do you think it might make those errors?"
      ]
    },
    {
      "cell_type": "markdown",
      "metadata": {
        "id": "4o7rBSbJngN6",
        "colab_type": "text"
      },
      "source": [
        "Once we've processed a text with `nlp`, we can iterate through the entities through the `doc.ents` attribute. Each entity is a spaCy `Span`. You can see the label of the entity through `ent.label_`."
      ]
    },
    {
      "cell_type": "code",
      "metadata": {
        "id": "-Pvtes6engN7",
        "colab_type": "code",
        "colab": {}
      },
      "source": [
        "for ent in doc.ents:\n",
        "    print(ent, ent.label_)"
      ],
      "execution_count": 0,
      "outputs": []
    },
    {
      "cell_type": "code",
      "metadata": {
        "id": "vGQwCK6fngN-",
        "colab_type": "code",
        "colab": {}
      },
      "source": [
        ""
      ],
      "execution_count": 0,
      "outputs": []
    },
    {
      "cell_type": "markdown",
      "metadata": {
        "id": "2Hg9VB1IngOD",
        "colab_type": "text"
      },
      "source": [
        "# IV. spaCy Processing Pipelines\n",
        "How does spaCy generate information like POS tags and entities? Under the hood, the `nlp` object goes through a number of sequential steps to process the text. This is called a **pipeline** and it allows us to create modular, independent processing steps when analyzing text. The model we loaded comes with a default **pipeline** which helps extract linguistic attributes from the text. We can see the names of our pipeline components through the `nlp.pipe_names` attribute:\n",
        "\n"
      ]
    },
    {
      "cell_type": "code",
      "metadata": {
        "id": "tWF-_rovngOD",
        "colab_type": "code",
        "colab": {}
      },
      "source": [
        "nlp.pipe_names"
      ],
      "execution_count": 0,
      "outputs": []
    },
    {
      "cell_type": "markdown",
      "metadata": {
        "id": "XiDOX6_JngOH",
        "colab_type": "text"
      },
      "source": [
        "The image below shows a visual representation of this. In this default spaCy pipeline, \n",
        "- We pass the text into the pipeline by calling `nlp(text)`\n",
        "- The text is split into **tokens** by the `tokenizer`\n",
        "- POS tags are assigned by the `tagger`\n",
        "- A dependency parse is generated by the `parser`\n",
        "- Entities are extracted by the `ner`\n",
        "- a `Doc` object is returned\n",
        "\n",
        "These are the steps taken in the default pipeline. However, as we'll see later we can add our own processing **components** and add them to our pipeline to do additional analysis."
      ]
    },
    {
      "cell_type": "code",
      "metadata": {
        "id": "vH8O59qdngOK",
        "colab_type": "code",
        "colab": {}
      },
      "source": [
        ""
      ],
      "execution_count": 0,
      "outputs": []
    },
    {
      "cell_type": "markdown",
      "metadata": {
        "id": "040wWYVnngOk",
        "colab_type": "text"
      },
      "source": [
        "# Next Steps\n",
        "Since spaCy's model doesn't extract the information we need by default, we'll need to do some additional work to extract clinical concepts. In the next notebook, we'll look at how we can use spaCy for processing and extracting information from **clinical text**.\n",
        "\n",
        "[01-clinical-nlp.ipynb](https://colab.research.google.com/drive/1ZcGohCwVj4neWEHI5szFAsbEo9Zj4iG7?usp=sharing)"
      ]
    },
    {
      "cell_type": "code",
      "metadata": {
        "id": "PidL1JQungOl",
        "colab_type": "code",
        "colab": {}
      },
      "source": [
        ""
      ],
      "execution_count": 0,
      "outputs": []
    }
  ]
}