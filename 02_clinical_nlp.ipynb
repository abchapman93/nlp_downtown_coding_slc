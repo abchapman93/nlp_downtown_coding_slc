{
  "nbformat": 4,
  "nbformat_minor": 0,
  "metadata": {
    "kernelspec": {
      "display_name": "Python 3",
      "language": "python",
      "name": "python3"
    },
    "language_info": {
      "codemirror_mode": {
        "name": "ipython",
        "version": 3
      },
      "file_extension": ".py",
      "mimetype": "text/x-python",
      "name": "python",
      "nbconvert_exporter": "python",
      "pygments_lexer": "ipython3",
      "version": "3.7.3"
    },
    "colab": {
      "name": "02-clinical-nlp.ipynb",
      "provenance": [],
      "collapsed_sections": [],
      "toc_visible": true,
      "include_colab_link": true
    }
  },
  "cells": [
    {
      "cell_type": "markdown",
      "metadata": {
        "id": "view-in-github",
        "colab_type": "text"
      },
      "source": [
        "<a href=\"https://colab.research.google.com/github/abchapman93/nlp_downtown_coding_slc/blob/master/02_clinical_nlp.ipynb\" target=\"_parent\"><img src=\"https://colab.research.google.com/assets/colab-badge.svg\" alt=\"Open In Colab\"/></a>"
      ]
    },
    {
      "cell_type": "code",
      "metadata": {
        "id": "QtrN4hocozyH",
        "colab_type": "code",
        "colab": {}
      },
      "source": [
        "import spacy\n",
        "from spacy import displacy\n",
        "from IPython.display import HTML"
      ],
      "execution_count": 0,
      "outputs": []
    },
    {
      "cell_type": "code",
      "metadata": {
        "id": "of9X07APozyM",
        "colab_type": "code",
        "colab": {}
      },
      "source": [
        "DISPLAY_COLORS = {\n",
        "    \"PROBLEM\": \"#1f77b4\",\n",
        "    \"TREATMENT\": \"#ff7f0e\",\n",
        "    \"TEST\": \"#2ca02c\",\n",
        "\n",
        "}"
      ],
      "execution_count": 0,
      "outputs": []
    },
    {
      "cell_type": "markdown",
      "metadata": {
        "id": "6Ta19boNItn8",
        "colab_type": "text"
      },
      "source": [
        "# I. NLP in Healthcare\n",
        "In the [last notebook](https://colab.research.google.com/drive/1ZANeSDAYsFVFgkIrxDVrCxk0_KKm_y0c?usp=sharing), we used a general-domain NLP model to extract information from news articles. However, NLP can be used in many specialties, and each specific domain will be interested in different concepts and tasks. In this notebook, we'll look at a few examples of how NLP can be used in the **clinical** domain for clinical concept extraction.\n",
        "\n",
        "Healthcare is an **information rich** industry. Every time a patient sees a doctor, fills a prescription, or takes a test, data is generated and stored. Healthcare providers store their data in an **Electronic Health Record (EHR)**. The field of **Healthcare Informatics** deals with how to manage this data and use it to make decisions regarding patient care, clinical research, and healthcare operations.\n",
        "\n",
        "One important type of data stored in the EHR is **clinical text**. These are free-text narratives which include very detailed and rich information about a patient's treatment. That makes it an excellent target of NLP. However, the language used in clinical text is notoriously complex and difficult to understand, and it is often very challenging to extract relevant information for EHR text.\n",
        "\n",
        "\n",
        "In this botebook, we'll look at how a pre-trained statistical model can extract clinical concepts such as problems, treatments, and tests. Next, we'll see how to write rules to supplement this statistical model. Finally, we'll use the [**cycontext**](https://github.com/medspacy/cycontext) package to detect negation, temporality, uncertainty, and family history."
      ]
    },
    {
      "cell_type": "markdown",
      "metadata": {
        "id": "J3SbKcPZ62Xf",
        "colab_type": "text"
      },
      "source": [
        "# II. Statistical Clinical NER\n",
        "\n",
        "In statistical NLP, we **annotate** a large corpus of text to identify the concepts we're interested in. Then we use those annotations as examples to train a machine learning model. Here, we'll use a statistical model trained to extract the following labels of **clinical concepts**:\n",
        "- **Problems:** Diagnoses, signs, and symptoms\n",
        "- **Tests:** Lab and vital measurements\n",
        "- **Treatments:** Medications, procedures, and therapies\n",
        "\n",
        "To train this model, I used data from the i2b2 2012 shared task: [**\"Evaluating temporal relations in clinical text\"**](https://www.ncbi.nlm.nih.gov/pmc/articles/PMC3756273/). This model was trained on data for the first subtask in the shared task, referred to in the challenge as **\"Clinically relevant events\"**."
      ]
    },
    {
      "cell_type": "markdown",
      "metadata": {
        "id": "m_KwApdZozyQ",
        "colab_type": "text"
      },
      "source": [
        "## Using our model\n",
        "I've uploaded this model to my GitHub. We can install it by pointing pip to the location of the **tar.gz** file:"
      ]
    },
    {
      "cell_type": "code",
      "metadata": {
        "id": "s53Io0bqBWST",
        "colab_type": "code",
        "colab": {
          "base_uri": "https://localhost:8080/",
          "height": 513
        },
        "outputId": "ecc26368-5ceb-4857-c7a9-472ded29991f"
      },
      "source": [
        "!pip install https://github.com/abchapman93/spacy_models/raw/master/releases/en_info_3700_i2b2_2012-0.1.0/dist/en_info_3700_i2b2_2012-0.1.0.tar.gz"
      ],
      "execution_count": 3,
      "outputs": [
        {
          "output_type": "stream",
          "text": [
            "Collecting https://github.com/abchapman93/spacy_models/raw/master/releases/en_info_3700_i2b2_2012-0.1.0/dist/en_info_3700_i2b2_2012-0.1.0.tar.gz\n",
            "  Using cached https://github.com/abchapman93/spacy_models/raw/master/releases/en_info_3700_i2b2_2012-0.1.0/dist/en_info_3700_i2b2_2012-0.1.0.tar.gz\n",
            "Requirement already satisfied (use --upgrade to upgrade): en-info-3700-i2b2-2012==0.1.0 from https://github.com/abchapman93/spacy_models/raw/master/releases/en_info_3700_i2b2_2012-0.1.0/dist/en_info_3700_i2b2_2012-0.1.0.tar.gz in /usr/local/lib/python3.6/dist-packages\n",
            "Requirement already satisfied: spacy>=2.2.2 in /usr/local/lib/python3.6/dist-packages (from en-info-3700-i2b2-2012==0.1.0) (2.2.4)\n",
            "Requirement already satisfied: numpy>=1.15.0 in /usr/local/lib/python3.6/dist-packages (from spacy>=2.2.2->en-info-3700-i2b2-2012==0.1.0) (1.18.4)\n",
            "Requirement already satisfied: srsly<1.1.0,>=1.0.2 in /usr/local/lib/python3.6/dist-packages (from spacy>=2.2.2->en-info-3700-i2b2-2012==0.1.0) (1.0.2)\n",
            "Requirement already satisfied: plac<1.2.0,>=0.9.6 in /usr/local/lib/python3.6/dist-packages (from spacy>=2.2.2->en-info-3700-i2b2-2012==0.1.0) (1.1.3)\n",
            "Requirement already satisfied: preshed<3.1.0,>=3.0.2 in /usr/local/lib/python3.6/dist-packages (from spacy>=2.2.2->en-info-3700-i2b2-2012==0.1.0) (3.0.2)\n",
            "Requirement already satisfied: cymem<2.1.0,>=2.0.2 in /usr/local/lib/python3.6/dist-packages (from spacy>=2.2.2->en-info-3700-i2b2-2012==0.1.0) (2.0.3)\n",
            "Requirement already satisfied: wasabi<1.1.0,>=0.4.0 in /usr/local/lib/python3.6/dist-packages (from spacy>=2.2.2->en-info-3700-i2b2-2012==0.1.0) (0.6.0)\n",
            "Requirement already satisfied: tqdm<5.0.0,>=4.38.0 in /usr/local/lib/python3.6/dist-packages (from spacy>=2.2.2->en-info-3700-i2b2-2012==0.1.0) (4.41.1)\n",
            "Requirement already satisfied: murmurhash<1.1.0,>=0.28.0 in /usr/local/lib/python3.6/dist-packages (from spacy>=2.2.2->en-info-3700-i2b2-2012==0.1.0) (1.0.2)\n",
            "Requirement already satisfied: catalogue<1.1.0,>=0.0.7 in /usr/local/lib/python3.6/dist-packages (from spacy>=2.2.2->en-info-3700-i2b2-2012==0.1.0) (1.0.0)\n",
            "Requirement already satisfied: setuptools in /usr/local/lib/python3.6/dist-packages (from spacy>=2.2.2->en-info-3700-i2b2-2012==0.1.0) (46.3.0)\n",
            "Requirement already satisfied: thinc==7.4.0 in /usr/local/lib/python3.6/dist-packages (from spacy>=2.2.2->en-info-3700-i2b2-2012==0.1.0) (7.4.0)\n",
            "Requirement already satisfied: requests<3.0.0,>=2.13.0 in /usr/local/lib/python3.6/dist-packages (from spacy>=2.2.2->en-info-3700-i2b2-2012==0.1.0) (2.23.0)\n",
            "Requirement already satisfied: blis<0.5.0,>=0.4.0 in /usr/local/lib/python3.6/dist-packages (from spacy>=2.2.2->en-info-3700-i2b2-2012==0.1.0) (0.4.1)\n",
            "Requirement already satisfied: importlib-metadata>=0.20; python_version < \"3.8\" in /usr/local/lib/python3.6/dist-packages (from catalogue<1.1.0,>=0.0.7->spacy>=2.2.2->en-info-3700-i2b2-2012==0.1.0) (1.6.0)\n",
            "Requirement already satisfied: certifi>=2017.4.17 in /usr/local/lib/python3.6/dist-packages (from requests<3.0.0,>=2.13.0->spacy>=2.2.2->en-info-3700-i2b2-2012==0.1.0) (2020.4.5.1)\n",
            "Requirement already satisfied: idna<3,>=2.5 in /usr/local/lib/python3.6/dist-packages (from requests<3.0.0,>=2.13.0->spacy>=2.2.2->en-info-3700-i2b2-2012==0.1.0) (2.9)\n",
            "Requirement already satisfied: urllib3!=1.25.0,!=1.25.1,<1.26,>=1.21.1 in /usr/local/lib/python3.6/dist-packages (from requests<3.0.0,>=2.13.0->spacy>=2.2.2->en-info-3700-i2b2-2012==0.1.0) (1.24.3)\n",
            "Requirement already satisfied: chardet<4,>=3.0.2 in /usr/local/lib/python3.6/dist-packages (from requests<3.0.0,>=2.13.0->spacy>=2.2.2->en-info-3700-i2b2-2012==0.1.0) (3.0.4)\n",
            "Requirement already satisfied: zipp>=0.5 in /usr/local/lib/python3.6/dist-packages (from importlib-metadata>=0.20; python_version < \"3.8\"->catalogue<1.1.0,>=0.0.7->spacy>=2.2.2->en-info-3700-i2b2-2012==0.1.0) (3.1.0)\n",
            "Building wheels for collected packages: en-info-3700-i2b2-2012\n",
            "  Building wheel for en-info-3700-i2b2-2012 (setup.py) ... \u001b[?25l\u001b[?25hdone\n",
            "  Created wheel for en-info-3700-i2b2-2012: filename=en_info_3700_i2b2_2012-0.1.0-cp36-none-any.whl size=12270780 sha256=0106ecbd80d2e3596ac72ca4a9c5a275c3d531650f2b1d0487207bba769b622d\n",
            "  Stored in directory: /root/.cache/pip/wheels/83/ea/74/70f179fd9dea68dccac6b8ab23f8427e3c981282c7bd8082b2\n",
            "Successfully built en-info-3700-i2b2-2012\n"
          ],
          "name": "stdout"
        }
      ]
    },
    {
      "cell_type": "markdown",
      "metadata": {
        "id": "NtaMY2lGBa_K",
        "colab_type": "text"
      },
      "source": [
        "No we can use this model by using `spacy.load`, just like we would normally read in a spaCy model. Make sure that you installed this in the [introduction](./00-introduction.ipynb) notebook. I named this model **\"en_info_3700_i2b2_2012\"**. The **\"en\"** stands for **\"English\"** (every spaCy model needs to start with its language), and the rest is named after my UVU class and the shared task.\n",
        "\n",
        "### **Note**: \n",
        "You may have to restart this kernel after installing the model. You can do this and re-run all the cells above this by clicking **\"Runtime\" >> \"Restart runtime\" >> \"Run before\"**."
      ]
    },
    {
      "cell_type": "code",
      "metadata": {
        "id": "Dy3DC8JGozyR",
        "colab_type": "code",
        "colab": {}
      },
      "source": [
        "nlp = spacy.load(\"en_info_3700_i2b2_2012\")"
      ],
      "execution_count": 0,
      "outputs": []
    },
    {
      "cell_type": "markdown",
      "metadata": {
        "id": "jQWvhqn5ozyU",
        "colab_type": "text"
      },
      "source": [
        "Our pipeline looks similar to the regular spaCy pipeline. But let's look at what labels are included in the `ner` component:"
      ]
    },
    {
      "cell_type": "code",
      "metadata": {
        "id": "ofoRLtfJozyV",
        "colab_type": "code",
        "outputId": "fc20518b-a647-4603-940b-c27f05bf022c",
        "colab": {
          "base_uri": "https://localhost:8080/",
          "height": 34
        }
      },
      "source": [
        "nlp.pipe_names"
      ],
      "execution_count": 5,
      "outputs": [
        {
          "output_type": "execute_result",
          "data": {
            "text/plain": [
              "['tagger', 'parser', 'ner']"
            ]
          },
          "metadata": {
            "tags": []
          },
          "execution_count": 5
        }
      ]
    },
    {
      "cell_type": "code",
      "metadata": {
        "scrolled": true,
        "id": "R5b_fHN1ozyZ",
        "colab_type": "code",
        "outputId": "2c2ddf4f-963e-4256-827c-dc7a5c691dd6",
        "colab": {
          "base_uri": "https://localhost:8080/",
          "height": 34
        }
      },
      "source": [
        "ner = nlp.get_pipe(\"ner\")\n",
        "ner.labels"
      ],
      "execution_count": 6,
      "outputs": [
        {
          "output_type": "execute_result",
          "data": {
            "text/plain": [
              "('PROBLEM', 'TEST', 'TREATMENT')"
            ]
          },
          "metadata": {
            "tags": []
          },
          "execution_count": 6
        }
      ]
    },
    {
      "cell_type": "markdown",
      "metadata": {
        "id": "cRFvwvwbozyc",
        "colab_type": "text"
      },
      "source": [
        "We can now use our i2b2 model in the exact same way that we would use any other model. Let's call our clinical model on an example text."
      ]
    },
    {
      "cell_type": "code",
      "metadata": {
        "id": "qsVuHu3Lozyc",
        "colab_type": "code",
        "colab": {}
      },
      "source": [
        "text = \"The patient was started on abx for his infection\"\n",
        "doc = nlp(text)"
      ],
      "execution_count": 0,
      "outputs": []
    },
    {
      "cell_type": "markdown",
      "metadata": {
        "id": "GBsquKCeozyg",
        "colab_type": "text"
      },
      "source": [
        "Let's look at what entities were extracted:"
      ]
    },
    {
      "cell_type": "code",
      "metadata": {
        "id": "_EYY9CfEozyh",
        "colab_type": "code",
        "outputId": "87a6946f-f097-4376-bd5d-6a2563ecf15c",
        "colab": {
          "base_uri": "https://localhost:8080/",
          "height": 34
        }
      },
      "source": [
        "doc.ents"
      ],
      "execution_count": 8,
      "outputs": [
        {
          "output_type": "execute_result",
          "data": {
            "text/plain": [
              "(abx, his infection)"
            ]
          },
          "metadata": {
            "tags": []
          },
          "execution_count": 8
        }
      ]
    },
    {
      "cell_type": "code",
      "metadata": {
        "id": "ZA2YKp1lozyk",
        "colab_type": "code",
        "outputId": "4e15b059-94b4-458a-f8a0-df6aadffc56b",
        "colab": {
          "base_uri": "https://localhost:8080/",
          "height": 52
        }
      },
      "source": [
        "HTML(displacy.render(doc, style=\"ent\", options={\"colors\": DISPLAY_COLORS}))"
      ],
      "execution_count": 9,
      "outputs": [
        {
          "output_type": "execute_result",
          "data": {
            "text/html": [
              "<div class=\"entities\" style=\"line-height: 2.5; direction: ltr\">The patient was started on \n",
              "<mark class=\"entity\" style=\"background: #ff7f0e; padding: 0.45em 0.6em; margin: 0 0.25em; line-height: 1; border-radius: 0.35em;\">\n",
              "    abx\n",
              "    <span style=\"font-size: 0.8em; font-weight: bold; line-height: 1; border-radius: 0.35em; text-transform: uppercase; vertical-align: middle; margin-left: 0.5rem\">TREATMENT</span>\n",
              "</mark>\n",
              " for \n",
              "<mark class=\"entity\" style=\"background: #1f77b4; padding: 0.45em 0.6em; margin: 0 0.25em; line-height: 1; border-radius: 0.35em;\">\n",
              "    his infection\n",
              "    <span style=\"font-size: 0.8em; font-weight: bold; line-height: 1; border-radius: 0.35em; text-transform: uppercase; vertical-align: middle; margin-left: 0.5rem\">PROBLEM</span>\n",
              "</mark>\n",
              "</div>"
            ],
            "text/plain": [
              "<IPython.core.display.HTML object>"
            ]
          },
          "metadata": {
            "tags": []
          },
          "execution_count": 9
        }
      ]
    },
    {
      "cell_type": "markdown",
      "metadata": {
        "id": "8f4CTSj0ozym",
        "colab_type": "text"
      },
      "source": [
        "We can see that our model extracted two clinical entities: **\"abx\"**, a **treatment**, and **\"his infection\"**, a **problem**. \n",
        "\n",
        "Let's now process a few more documents and view the model output. We'll combine all of the following sentences and process them all as one `doc` so that we can view all the output simultaneously."
      ]
    },
    {
      "cell_type": "code",
      "metadata": {
        "id": "9vcaCUdIozyn",
        "colab_type": "code",
        "colab": {}
      },
      "source": [
        "texts = [\n",
        "    \"87-year-old man with htn and end-stage renal disease.\",\n",
        "    \"His wife recently died from end stage renal disease.\",\n",
        "    \"The patient was started on abx for his infection.\",\n",
        "    \"There is continued mild-to-moderate congestive heart failure. \",\n",
        "    \"The patient is s/p median sternotomy and right thoracotomy.\",\n",
        "    \"The pt presents for ckd stage 4\",\n",
        "    \"He previously had CKD stage 3.\",\n",
        "    \"The patient presented to the emergency room with cough and fever, concern for infections.\",\n",
        "    \"Patient prescribed coumadin for her atrial fibrillation.\",\n",
        "    \"Patient prescribed coumadin for her AF.\",\n",
        "]\n",
        "# Let's join them together to make one long text so we can see all of the examples at the same time\n",
        "long_text = \"\\n\".join(texts)"
      ],
      "execution_count": 0,
      "outputs": []
    },
    {
      "cell_type": "code",
      "metadata": {
        "id": "S0FPQIM6ozyq",
        "colab_type": "code",
        "colab": {}
      },
      "source": [
        "doc = nlp(long_text)"
      ],
      "execution_count": 0,
      "outputs": []
    },
    {
      "cell_type": "code",
      "metadata": {
        "id": "JVNR0utSozyu",
        "colab_type": "code",
        "outputId": "e1c56139-0886-4d60-cbe4-8bfec6c94183",
        "colab": {
          "base_uri": "https://localhost:8080/",
          "height": 367
        }
      },
      "source": [
        "HTML(displacy.render(doc, style=\"ent\", options={\"colors\": DISPLAY_COLORS}))"
      ],
      "execution_count": 12,
      "outputs": [
        {
          "output_type": "execute_result",
          "data": {
            "text/html": [
              "<div class=\"entities\" style=\"line-height: 2.5; direction: ltr\">87-year-old man with \n",
              "<mark class=\"entity\" style=\"background: #1f77b4; padding: 0.45em 0.6em; margin: 0 0.25em; line-height: 1; border-radius: 0.35em;\">\n",
              "    htn\n",
              "    <span style=\"font-size: 0.8em; font-weight: bold; line-height: 1; border-radius: 0.35em; text-transform: uppercase; vertical-align: middle; margin-left: 0.5rem\">PROBLEM</span>\n",
              "</mark>\n",
              " and \n",
              "<mark class=\"entity\" style=\"background: #1f77b4; padding: 0.45em 0.6em; margin: 0 0.25em; line-height: 1; border-radius: 0.35em;\">\n",
              "    end-stage renal disease\n",
              "    <span style=\"font-size: 0.8em; font-weight: bold; line-height: 1; border-radius: 0.35em; text-transform: uppercase; vertical-align: middle; margin-left: 0.5rem\">PROBLEM</span>\n",
              "</mark>\n",
              ".</br>His wife recently died from \n",
              "<mark class=\"entity\" style=\"background: #1f77b4; padding: 0.45em 0.6em; margin: 0 0.25em; line-height: 1; border-radius: 0.35em;\">\n",
              "    end stage renal disease\n",
              "    <span style=\"font-size: 0.8em; font-weight: bold; line-height: 1; border-radius: 0.35em; text-transform: uppercase; vertical-align: middle; margin-left: 0.5rem\">PROBLEM</span>\n",
              "</mark>\n",
              ".</br>The patient was started on \n",
              "<mark class=\"entity\" style=\"background: #ff7f0e; padding: 0.45em 0.6em; margin: 0 0.25em; line-height: 1; border-radius: 0.35em;\">\n",
              "    abx\n",
              "    <span style=\"font-size: 0.8em; font-weight: bold; line-height: 1; border-radius: 0.35em; text-transform: uppercase; vertical-align: middle; margin-left: 0.5rem\">TREATMENT</span>\n",
              "</mark>\n",
              " for \n",
              "<mark class=\"entity\" style=\"background: #1f77b4; padding: 0.45em 0.6em; margin: 0 0.25em; line-height: 1; border-radius: 0.35em;\">\n",
              "    his infection\n",
              "    <span style=\"font-size: 0.8em; font-weight: bold; line-height: 1; border-radius: 0.35em; text-transform: uppercase; vertical-align: middle; margin-left: 0.5rem\">PROBLEM</span>\n",
              "</mark>\n",
              ".</br>There is \n",
              "<mark class=\"entity\" style=\"background: #1f77b4; padding: 0.45em 0.6em; margin: 0 0.25em; line-height: 1; border-radius: 0.35em;\">\n",
              "    continued mild-to-moderate congestive heart failure\n",
              "    <span style=\"font-size: 0.8em; font-weight: bold; line-height: 1; border-radius: 0.35em; text-transform: uppercase; vertical-align: middle; margin-left: 0.5rem\">PROBLEM</span>\n",
              "</mark>\n",
              ". </br>The patient is s/p \n",
              "<mark class=\"entity\" style=\"background: #ff7f0e; padding: 0.45em 0.6em; margin: 0 0.25em; line-height: 1; border-radius: 0.35em;\">\n",
              "    median sternotomy\n",
              "    <span style=\"font-size: 0.8em; font-weight: bold; line-height: 1; border-radius: 0.35em; text-transform: uppercase; vertical-align: middle; margin-left: 0.5rem\">TREATMENT</span>\n",
              "</mark>\n",
              " and \n",
              "<mark class=\"entity\" style=\"background: #ff7f0e; padding: 0.45em 0.6em; margin: 0 0.25em; line-height: 1; border-radius: 0.35em;\">\n",
              "    right thoracotomy\n",
              "    <span style=\"font-size: 0.8em; font-weight: bold; line-height: 1; border-radius: 0.35em; text-transform: uppercase; vertical-align: middle; margin-left: 0.5rem\">TREATMENT</span>\n",
              "</mark>\n",
              ".</br>The pt presents for \n",
              "<mark class=\"entity\" style=\"background: #1f77b4; padding: 0.45em 0.6em; margin: 0 0.25em; line-height: 1; border-radius: 0.35em;\">\n",
              "    ckd stage\n",
              "    <span style=\"font-size: 0.8em; font-weight: bold; line-height: 1; border-radius: 0.35em; text-transform: uppercase; vertical-align: middle; margin-left: 0.5rem\">PROBLEM</span>\n",
              "</mark>\n",
              " 4</br>He previously had \n",
              "<mark class=\"entity\" style=\"background: #1f77b4; padding: 0.45em 0.6em; margin: 0 0.25em; line-height: 1; border-radius: 0.35em;\">\n",
              "    CKD stage 3\n",
              "    <span style=\"font-size: 0.8em; font-weight: bold; line-height: 1; border-radius: 0.35em; text-transform: uppercase; vertical-align: middle; margin-left: 0.5rem\">PROBLEM</span>\n",
              "</mark>\n",
              ".</br>The patient presented to the emergency room with \n",
              "<mark class=\"entity\" style=\"background: #1f77b4; padding: 0.45em 0.6em; margin: 0 0.25em; line-height: 1; border-radius: 0.35em;\">\n",
              "    cough\n",
              "    <span style=\"font-size: 0.8em; font-weight: bold; line-height: 1; border-radius: 0.35em; text-transform: uppercase; vertical-align: middle; margin-left: 0.5rem\">PROBLEM</span>\n",
              "</mark>\n",
              " and \n",
              "<mark class=\"entity\" style=\"background: #1f77b4; padding: 0.45em 0.6em; margin: 0 0.25em; line-height: 1; border-radius: 0.35em;\">\n",
              "    fever\n",
              "    <span style=\"font-size: 0.8em; font-weight: bold; line-height: 1; border-radius: 0.35em; text-transform: uppercase; vertical-align: middle; margin-left: 0.5rem\">PROBLEM</span>\n",
              "</mark>\n",
              ", concern for \n",
              "<mark class=\"entity\" style=\"background: #1f77b4; padding: 0.45em 0.6em; margin: 0 0.25em; line-height: 1; border-radius: 0.35em;\">\n",
              "    infections\n",
              "    <span style=\"font-size: 0.8em; font-weight: bold; line-height: 1; border-radius: 0.35em; text-transform: uppercase; vertical-align: middle; margin-left: 0.5rem\">PROBLEM</span>\n",
              "</mark>\n",
              ".</br>Patient prescribed \n",
              "<mark class=\"entity\" style=\"background: #ff7f0e; padding: 0.45em 0.6em; margin: 0 0.25em; line-height: 1; border-radius: 0.35em;\">\n",
              "    coumadin\n",
              "    <span style=\"font-size: 0.8em; font-weight: bold; line-height: 1; border-radius: 0.35em; text-transform: uppercase; vertical-align: middle; margin-left: 0.5rem\">TREATMENT</span>\n",
              "</mark>\n",
              " for \n",
              "<mark class=\"entity\" style=\"background: #1f77b4; padding: 0.45em 0.6em; margin: 0 0.25em; line-height: 1; border-radius: 0.35em;\">\n",
              "    her atrial fibrillation\n",
              "    <span style=\"font-size: 0.8em; font-weight: bold; line-height: 1; border-radius: 0.35em; text-transform: uppercase; vertical-align: middle; margin-left: 0.5rem\">PROBLEM</span>\n",
              "</mark>\n",
              ".</br>Patient prescribed \n",
              "<mark class=\"entity\" style=\"background: #ff7f0e; padding: 0.45em 0.6em; margin: 0 0.25em; line-height: 1; border-radius: 0.35em;\">\n",
              "    coumadin\n",
              "    <span style=\"font-size: 0.8em; font-weight: bold; line-height: 1; border-radius: 0.35em; text-transform: uppercase; vertical-align: middle; margin-left: 0.5rem\">TREATMENT</span>\n",
              "</mark>\n",
              " for \n",
              "<mark class=\"entity\" style=\"background: #1f77b4; padding: 0.45em 0.6em; margin: 0 0.25em; line-height: 1; border-radius: 0.35em;\">\n",
              "    her AF\n",
              "    <span style=\"font-size: 0.8em; font-weight: bold; line-height: 1; border-radius: 0.35em; text-transform: uppercase; vertical-align: middle; margin-left: 0.5rem\">PROBLEM</span>\n",
              "</mark>\n",
              ".</div>"
            ],
            "text/plain": [
              "<IPython.core.display.HTML object>"
            ]
          },
          "metadata": {
            "tags": []
          },
          "execution_count": 12
        }
      ]
    },
    {
      "cell_type": "markdown",
      "metadata": {
        "id": "yeMajXR5ozyw",
        "colab_type": "text"
      },
      "source": [
        "### Discussion\n",
        "Look at the output of the model above. Do you see any errors in the predictions? Are there any other limitations to the information extracted by the model?"
      ]
    },
    {
      "cell_type": "code",
      "metadata": {
        "id": "u46KvbCcozyx",
        "colab_type": "code",
        "colab": {}
      },
      "source": [
        ""
      ],
      "execution_count": 0,
      "outputs": []
    },
    {
      "cell_type": "markdown",
      "metadata": {
        "id": "PmmZKMcgzdjQ",
        "colab_type": "text"
      },
      "source": [
        "# III. Rule-Based NER\n",
        "Many models popularly used in the NLP community today are **deep learning-based, statistical mdoels**. These are great when you have large amounts of data which represent the concepts you want to extract. However, one disadvantage is that if a new concept arises which is not present in your dataset, you can't easily add it to your model without adding a large amount of new data.\n",
        "\n",
        "For example, one application of clinical NLP is **biosurveillance**, where we use NLP to identify occurrences of outbreaks of diseases or syndromes. This is particularly important now during COVID-19. However, the dataset used to train our NLP model is from 2012, long before COVID-19 even existed.\n",
        "\n",
        "Let's see if our model recognizes COVID-19 as a **\"Problem\"**:"
      ]
    },
    {
      "cell_type": "code",
      "metadata": {
        "id": "fcGE8uY1zckz",
        "colab_type": "code",
        "colab": {}
      },
      "source": [
        "doc = nlp(\"He presents to the ER for possible COVID-19.\")"
      ],
      "execution_count": 0,
      "outputs": []
    },
    {
      "cell_type": "code",
      "metadata": {
        "id": "6YarN0UN17S7",
        "colab_type": "code",
        "outputId": "8aa73aec-87d7-4805-ac1e-61dab396d51c",
        "colab": {
          "base_uri": "https://localhost:8080/",
          "height": 34
        }
      },
      "source": [
        "doc.ents"
      ],
      "execution_count": 14,
      "outputs": [
        {
          "output_type": "execute_result",
          "data": {
            "text/plain": [
              "()"
            ]
          },
          "metadata": {
            "tags": []
          },
          "execution_count": 14
        }
      ]
    },
    {
      "cell_type": "code",
      "metadata": {
        "id": "iM7OrGvi0ZvO",
        "colab_type": "code",
        "outputId": "a475625c-beb6-487c-f355-e8d939f768bc",
        "colab": {
          "base_uri": "https://localhost:8080/",
          "height": 106
        }
      },
      "source": [
        "HTML(displacy.render(doc, style=\"ent\"))"
      ],
      "execution_count": 15,
      "outputs": [
        {
          "output_type": "stream",
          "text": [
            "/usr/lib/python3.6/runpy.py:193: UserWarning: [W006] No entities to visualize found in Doc object. If this is surprising to you, make sure the Doc was processed using a model that supports named entity recognition, and check the `doc.ents` property manually if necessary.\n",
            "  \"__main__\", mod_spec)\n"
          ],
          "name": "stderr"
        },
        {
          "output_type": "execute_result",
          "data": {
            "text/html": [
              "<div class=\"entities\" style=\"line-height: 2.5; direction: ltr\">He presents to the ER for possible COVID-19.</div>"
            ],
            "text/plain": [
              "<IPython.core.display.HTML object>"
            ]
          },
          "metadata": {
            "tags": []
          },
          "execution_count": 15
        }
      ]
    },
    {
      "cell_type": "markdown",
      "metadata": {
        "id": "E3IVwfpH0ko1",
        "colab_type": "text"
      },
      "source": [
        "Our model doesn't recognize COVID-19!\n",
        "\n",
        "For cases like this, we may instead want to use a **rule-based system**. A rule-based system is defined by manually curated rules which define the concepts we're interested in and the patterns in text which we should extract. This may sometimes require more manual effort than a statistical model which learns directly from the data, but it also allows us to extract highly specific concepts.\n",
        "\n",
        "One way to implement a rule-based system in spaCy is called the [EntityRuler](https://spacy.io/api/entityruler). This is a class which allows us extract entities by writing rules which will match tokens based on various attributes. The matches are then added to `doc.ents`.\n",
        "\n",
        "A spaCy pattern rule consists of a **\"label\"** and a **\"pattern\"**. The simplest pattern is just the string we want to match, but spaCy also allows for more complex pattern matching using token attributes. For more details and examples, see the spaCy documentation on [rule-based matching](https://spacy.io/usage/rule-based-matching).\n",
        "\n",
        "Let's instantiate an `EntityRuler`, add a pattern for \"COVID-19\", and then add it to our pipeline. We can add new components to spaCy by calling `nlp.add_pipe`. This allows us to create custom NLP workflows, which is one of the features that makes spaCy such a powerful library."
      ]
    },
    {
      "cell_type": "code",
      "metadata": {
        "id": "-aZBpWu71py_",
        "colab_type": "code",
        "colab": {}
      },
      "source": [
        "from spacy.pipeline import EntityRuler \n",
        "ruler = EntityRuler(nlp)"
      ],
      "execution_count": 0,
      "outputs": []
    },
    {
      "cell_type": "code",
      "metadata": {
        "id": "pcOUKpQE1_Qe",
        "colab_type": "code",
        "colab": {}
      },
      "source": [
        "pattern = {\"label\": \"PROBLEM\", \"pattern\": \"COVID-19\"}\n",
        "ruler.add_patterns([pattern])"
      ],
      "execution_count": 0,
      "outputs": []
    },
    {
      "cell_type": "code",
      "metadata": {
        "id": "wAbEbhtE1wLS",
        "colab_type": "code",
        "colab": {}
      },
      "source": [
        "nlp.add_pipe(ruler)"
      ],
      "execution_count": 0,
      "outputs": []
    },
    {
      "cell_type": "code",
      "metadata": {
        "id": "WOsm4pz41-4k",
        "colab_type": "code",
        "outputId": "7dd89ff6-6f4f-42dd-c901-e4d8353c592c",
        "colab": {
          "base_uri": "https://localhost:8080/",
          "height": 34
        }
      },
      "source": [
        "doc = nlp(\"He presents to the ER for possible COVID-19.\")\n",
        "doc.ents"
      ],
      "execution_count": 19,
      "outputs": [
        {
          "output_type": "execute_result",
          "data": {
            "text/plain": [
              "(COVID-19,)"
            ]
          },
          "metadata": {
            "tags": []
          },
          "execution_count": 19
        }
      ]
    },
    {
      "cell_type": "markdown",
      "metadata": {
        "id": "rAmFDL0wDSEs",
        "colab_type": "text"
      },
      "source": [
        "Now, let's see if we correctly identified COVID-19 as a problem:"
      ]
    },
    {
      "cell_type": "code",
      "metadata": {
        "id": "CwwNjIcq2KhI",
        "colab_type": "code",
        "outputId": "b38bee29-e65a-47cb-a0dd-5f2b20dd12ff",
        "colab": {
          "base_uri": "https://localhost:8080/",
          "height": 52
        }
      },
      "source": [
        "HTML(displacy.render(doc, style=\"ent\"))"
      ],
      "execution_count": 20,
      "outputs": [
        {
          "output_type": "execute_result",
          "data": {
            "text/html": [
              "<div class=\"entities\" style=\"line-height: 2.5; direction: ltr\">He presents to the ER for possible \n",
              "<mark class=\"entity\" style=\"background: #ddd; padding: 0.45em 0.6em; margin: 0 0.25em; line-height: 1; border-radius: 0.35em;\">\n",
              "    COVID-19\n",
              "    <span style=\"font-size: 0.8em; font-weight: bold; line-height: 1; border-radius: 0.35em; text-transform: uppercase; vertical-align: middle; margin-left: 0.5rem\">PROBLEM</span>\n",
              "</mark>\n",
              ".</div>"
            ],
            "text/plain": [
              "<IPython.core.display.HTML object>"
            ]
          },
          "metadata": {
            "tags": []
          },
          "execution_count": 20
        }
      ]
    },
    {
      "cell_type": "markdown",
      "metadata": {
        "id": "qbJC60ibozy0",
        "colab_type": "text"
      },
      "source": [
        "# IV. Contextual Analysis\n",
        "\n",
        "We now know how to extract clinical concepts using both a pre-trained statistical model and a rule-based model. We'll now look at one additional common step in clinical NLP: **contextual analysis**.\n",
        "\n",
        "Do you see any issues with the example below? Did the model predict correctly? Is there any other information we need to extract from the text?"
      ]
    },
    {
      "cell_type": "code",
      "metadata": {
        "id": "vX8f_fXDozy0",
        "colab_type": "code",
        "colab": {}
      },
      "source": [
        "doc = nlp(\"There is no evidence of pneumonia.\")"
      ],
      "execution_count": 0,
      "outputs": []
    },
    {
      "cell_type": "code",
      "metadata": {
        "id": "yRPHTEP6ozy3",
        "colab_type": "code",
        "outputId": "64b56709-dbc4-4dd0-dce7-508d947443f1",
        "colab": {
          "base_uri": "https://localhost:8080/",
          "height": 52
        }
      },
      "source": [
        "HTML(displacy.render(doc, style=\"ent\", options={\"colors\": DISPLAY_COLORS}))"
      ],
      "execution_count": 22,
      "outputs": [
        {
          "output_type": "execute_result",
          "data": {
            "text/html": [
              "<div class=\"entities\" style=\"line-height: 2.5; direction: ltr\">There is no evidence of \n",
              "<mark class=\"entity\" style=\"background: #1f77b4; padding: 0.45em 0.6em; margin: 0 0.25em; line-height: 1; border-radius: 0.35em;\">\n",
              "    pneumonia\n",
              "    <span style=\"font-size: 0.8em; font-weight: bold; line-height: 1; border-radius: 0.35em; text-transform: uppercase; vertical-align: middle; margin-left: 0.5rem\">PROBLEM</span>\n",
              "</mark>\n",
              ".</div>"
            ],
            "text/plain": [
              "<IPython.core.display.HTML object>"
            ]
          },
          "metadata": {
            "tags": []
          },
          "execution_count": 22
        }
      ]
    },
    {
      "cell_type": "markdown",
      "metadata": {
        "id": "hVKt2yFLqNVl",
        "colab_type": "text"
      },
      "source": [
        "In this example, our model correctly extracts **\"pneumonia\"** as problem. However, the patient does not actually *have* pneumonia, so we don't want to extract it as one of the patient's problem.\n",
        "\n",
        "To address this, we'll use a custom spaCy component from a library called `cycontext`."
      ]
    },
    {
      "cell_type": "markdown",
      "metadata": {
        "id": "7o-iT6_mtRVI",
        "colab_type": "text"
      },
      "source": [
        "## The ConText algorithm\n",
        "One method for performing this analysis is the **ConText** algorithm. This algorithm was originally proposed in this [paper](https://www.ncbi.nlm.nih.gov/pmc/articles/PMC2757457/).\n",
        "\n",
        "There are several implementations of ConText and clinical NLP systems which use ConText, including:\n",
        "- [cycontext](https://github.com/medspacy/cycontext)\n",
        "- [cTAKES](https://www.ncbi.nlm.nih.gov/pmc/articles/PMC2995668/)\n",
        "- [Leo](https://department-of-veterans-affairs.github.io/Leo/index.html)\n",
        "- [pyConText](https://github.com/chapmanbe/pyConTextNLP)\n",
        "\n",
        "## How ConText works\n",
        "\n",
        "ConText connects certain **modifiers**, such as **\"no evidence of\"** or no **\"is negative\"**, with the target concepts we are extracting. In our example sentence:\n",
        "\n",
        "---\n",
        "There is **no evidence of** **_pneumonia_**\n",
        "\n",
        "---\n",
        "the **target** is **_pneumonia_**: this is the clinical concept we are trying to extract. The **modifier** is **no evidence of**: this shows that the concept is **negated**. \n",
        "\n",
        "ConText finds these targets and modifiers in text and builds a **directed graph** between them, where the targets and modifiers are **nodes** and the edges between them show that the modifier applies to the target. \n",
        "\n",
        "## cycontext\n",
        "[`cycontext`](https://github.com/medspacy/cycontext) is one component from the [`medSpaCy`](https://github.com/medspacy) project, an ongoing project from a group of NLP developers at the University of Utah (including myself). The goal of medSpaCy is to create a set of clinical NLP tools implemented in Python and using the spaCy framework. MedSpaCy also includes a [clinical sectionizer](https://github.com/medspacy/sectionizer) and will have more components released in the near future.\n",
        "\n",
        "Let's use cycontext to detect negation in this sentence and then visualize how the algorithm works. We can install cycontext using pip:\n"
      ]
    },
    {
      "cell_type": "code",
      "metadata": {
        "id": "Qn_RSV-YLB_U",
        "colab_type": "code",
        "colab": {
          "base_uri": "https://localhost:8080/",
          "height": 394
        },
        "outputId": "cbedfa8c-132f-4604-96eb-6f2a27f4f9fb"
      },
      "source": [
        "# Install the package\n",
        "!pip install cycontext==1.0.2"
      ],
      "execution_count": 23,
      "outputs": [
        {
          "output_type": "stream",
          "text": [
            "Requirement already satisfied: cycontext==1.0.2 in /usr/local/lib/python3.6/dist-packages (1.0.2)\n",
            "Requirement already satisfied: spacy>=2.2.2 in /usr/local/lib/python3.6/dist-packages (from cycontext==1.0.2) (2.2.4)\n",
            "Requirement already satisfied: preshed<3.1.0,>=3.0.2 in /usr/local/lib/python3.6/dist-packages (from spacy>=2.2.2->cycontext==1.0.2) (3.0.2)\n",
            "Requirement already satisfied: tqdm<5.0.0,>=4.38.0 in /usr/local/lib/python3.6/dist-packages (from spacy>=2.2.2->cycontext==1.0.2) (4.41.1)\n",
            "Requirement already satisfied: srsly<1.1.0,>=1.0.2 in /usr/local/lib/python3.6/dist-packages (from spacy>=2.2.2->cycontext==1.0.2) (1.0.2)\n",
            "Requirement already satisfied: cymem<2.1.0,>=2.0.2 in /usr/local/lib/python3.6/dist-packages (from spacy>=2.2.2->cycontext==1.0.2) (2.0.3)\n",
            "Requirement already satisfied: wasabi<1.1.0,>=0.4.0 in /usr/local/lib/python3.6/dist-packages (from spacy>=2.2.2->cycontext==1.0.2) (0.6.0)\n",
            "Requirement already satisfied: murmurhash<1.1.0,>=0.28.0 in /usr/local/lib/python3.6/dist-packages (from spacy>=2.2.2->cycontext==1.0.2) (1.0.2)\n",
            "Requirement already satisfied: catalogue<1.1.0,>=0.0.7 in /usr/local/lib/python3.6/dist-packages (from spacy>=2.2.2->cycontext==1.0.2) (1.0.0)\n",
            "Requirement already satisfied: blis<0.5.0,>=0.4.0 in /usr/local/lib/python3.6/dist-packages (from spacy>=2.2.2->cycontext==1.0.2) (0.4.1)\n",
            "Requirement already satisfied: setuptools in /usr/local/lib/python3.6/dist-packages (from spacy>=2.2.2->cycontext==1.0.2) (46.3.0)\n",
            "Requirement already satisfied: thinc==7.4.0 in /usr/local/lib/python3.6/dist-packages (from spacy>=2.2.2->cycontext==1.0.2) (7.4.0)\n",
            "Requirement already satisfied: plac<1.2.0,>=0.9.6 in /usr/local/lib/python3.6/dist-packages (from spacy>=2.2.2->cycontext==1.0.2) (1.1.3)\n",
            "Requirement already satisfied: numpy>=1.15.0 in /usr/local/lib/python3.6/dist-packages (from spacy>=2.2.2->cycontext==1.0.2) (1.18.4)\n",
            "Requirement already satisfied: requests<3.0.0,>=2.13.0 in /usr/local/lib/python3.6/dist-packages (from spacy>=2.2.2->cycontext==1.0.2) (2.23.0)\n",
            "Requirement already satisfied: importlib-metadata>=0.20; python_version < \"3.8\" in /usr/local/lib/python3.6/dist-packages (from catalogue<1.1.0,>=0.0.7->spacy>=2.2.2->cycontext==1.0.2) (1.6.0)\n",
            "Requirement already satisfied: chardet<4,>=3.0.2 in /usr/local/lib/python3.6/dist-packages (from requests<3.0.0,>=2.13.0->spacy>=2.2.2->cycontext==1.0.2) (3.0.4)\n",
            "Requirement already satisfied: urllib3!=1.25.0,!=1.25.1,<1.26,>=1.21.1 in /usr/local/lib/python3.6/dist-packages (from requests<3.0.0,>=2.13.0->spacy>=2.2.2->cycontext==1.0.2) (1.24.3)\n",
            "Requirement already satisfied: idna<3,>=2.5 in /usr/local/lib/python3.6/dist-packages (from requests<3.0.0,>=2.13.0->spacy>=2.2.2->cycontext==1.0.2) (2.9)\n",
            "Requirement already satisfied: certifi>=2017.4.17 in /usr/local/lib/python3.6/dist-packages (from requests<3.0.0,>=2.13.0->spacy>=2.2.2->cycontext==1.0.2) (2020.4.5.1)\n",
            "Requirement already satisfied: zipp>=0.5 in /usr/local/lib/python3.6/dist-packages (from importlib-metadata>=0.20; python_version < \"3.8\"->catalogue<1.1.0,>=0.0.7->spacy>=2.2.2->cycontext==1.0.2) (3.1.0)\n"
          ],
          "name": "stdout"
        }
      ]
    },
    {
      "cell_type": "markdown",
      "metadata": {
        "id": "7rVW_hN_tkot",
        "colab_type": "text"
      },
      "source": [
        "First, we'll instantiate the `context` component and add it to our pipeline."
      ]
    },
    {
      "cell_type": "code",
      "metadata": {
        "id": "VbquB77wozy6",
        "colab_type": "code",
        "colab": {}
      },
      "source": [
        "from cycontext import ConTextComponent\n",
        "from cycontext.viz import visualize_dep, visualize_ent"
      ],
      "execution_count": 0,
      "outputs": []
    },
    {
      "cell_type": "code",
      "metadata": {
        "id": "KJ4II_uQt6ay",
        "colab_type": "code",
        "colab": {}
      },
      "source": [
        "context = ConTextComponent(nlp)"
      ],
      "execution_count": 0,
      "outputs": []
    },
    {
      "cell_type": "code",
      "metadata": {
        "id": "qFJ7VdRfuKGM",
        "colab_type": "code",
        "outputId": "d30e3589-cee4-476c-de94-8fbc3266468f",
        "colab": {
          "base_uri": "https://localhost:8080/",
          "height": 34
        }
      },
      "source": [
        "nlp.add_pipe(context)\n",
        "nlp.pipe_names"
      ],
      "execution_count": 26,
      "outputs": [
        {
          "output_type": "execute_result",
          "data": {
            "text/plain": [
              "['tagger', 'parser', 'ner', 'entity_ruler', 'context']"
            ]
          },
          "metadata": {
            "tags": []
          },
          "execution_count": 26
        }
      ]
    },
    {
      "cell_type": "markdown",
      "metadata": {
        "id": "GrjaOzEyDwPU",
        "colab_type": "text"
      },
      "source": [
        "When we visualize this text using functions from `cycontext`, we can see that in addition to the **\"PROBLEM\"** ent we also extracted the phrase **\"no evidence of\"**, which has an arrow showing that it modifies **\"pneumonia\"**:"
      ]
    },
    {
      "cell_type": "code",
      "metadata": {
        "id": "Jy7lWgs2uNW7",
        "colab_type": "code",
        "outputId": "66dc8012-d0bf-4d2d-ce74-14a6abb70509",
        "colab": {
          "base_uri": "https://localhost:8080/",
          "height": 52
        }
      },
      "source": [
        "doc = nlp(\"There is no evidence of pneumonia\")\n",
        "visualize_ent(doc)"
      ],
      "execution_count": 27,
      "outputs": [
        {
          "output_type": "display_data",
          "data": {
            "text/html": [
              "<span class=\"tex2jax_ignore\"><div class=\"entities\" style=\"line-height: 2.5; direction: ltr\">There is \n",
              "<mark class=\"entity\" style=\"background: #ff7f0e; padding: 0.45em 0.6em; margin: 0 0.25em; line-height: 1; border-radius: 0.35em;\">\n",
              "    no evidence of\n",
              "    <span style=\"font-size: 0.8em; font-weight: bold; line-height: 1; border-radius: 0.35em; text-transform: uppercase; vertical-align: middle; margin-left: 0.5rem\">NEGATED_EXISTENCE</span>\n",
              "</mark>\n",
              " \n",
              "<mark class=\"entity\" style=\"background: #1f77b4; padding: 0.45em 0.6em; margin: 0 0.25em; line-height: 1; border-radius: 0.35em;\">\n",
              "    pneumonia\n",
              "    <span style=\"font-size: 0.8em; font-weight: bold; line-height: 1; border-radius: 0.35em; text-transform: uppercase; vertical-align: middle; margin-left: 0.5rem\">PROBLEM</span>\n",
              "</mark>\n",
              "</div></span>"
            ],
            "text/plain": [
              "<IPython.core.display.HTML object>"
            ]
          },
          "metadata": {
            "tags": []
          }
        }
      ]
    },
    {
      "cell_type": "code",
      "metadata": {
        "id": "yhFDo7LEuX6l",
        "colab_type": "code",
        "outputId": "a930f1f8-4f4c-4c55-e96a-ffcdacf62b69",
        "colab": {
          "base_uri": "https://localhost:8080/",
          "height": 246
        }
      },
      "source": [
        "visualize_dep(doc)"
      ],
      "execution_count": 28,
      "outputs": [
        {
          "output_type": "display_data",
          "data": {
            "text/html": [
              "<span class=\"tex2jax_ignore\"><svg xmlns=\"http://www.w3.org/2000/svg\" xmlns:xlink=\"http://www.w3.org/1999/xlink\" xml:lang=\"en\" id=\"99020c8c77504fe08ec7fce43e3c4b53-0\" class=\"displacy\" width=\"750\" height=\"224.5\" direction=\"ltr\" style=\"max-width: none; height: 224.5px; color: #000000; background: #ffffff; font-family: Arial; direction: ltr\">\n",
              "<text class=\"displacy-token\" fill=\"currentColor\" text-anchor=\"middle\" y=\"134.5\">\n",
              "    <tspan class=\"displacy-word\" fill=\"currentColor\" x=\"50\">There</tspan>\n",
              "    <tspan class=\"displacy-tag\" dy=\"2em\" fill=\"currentColor\" x=\"50\"></tspan>\n",
              "</text>\n",
              "\n",
              "<text class=\"displacy-token\" fill=\"currentColor\" text-anchor=\"middle\" y=\"134.5\">\n",
              "    <tspan class=\"displacy-word\" fill=\"currentColor\" x=\"225\">is</tspan>\n",
              "    <tspan class=\"displacy-tag\" dy=\"2em\" fill=\"currentColor\" x=\"225\"></tspan>\n",
              "</text>\n",
              "\n",
              "<text class=\"displacy-token\" fill=\"currentColor\" text-anchor=\"middle\" y=\"134.5\">\n",
              "    <tspan class=\"displacy-word\" fill=\"currentColor\" x=\"400\">no evidence of</tspan>\n",
              "    <tspan class=\"displacy-tag\" dy=\"2em\" fill=\"currentColor\" x=\"400\"></tspan>\n",
              "</text>\n",
              "\n",
              "<text class=\"displacy-token\" fill=\"currentColor\" text-anchor=\"middle\" y=\"134.5\">\n",
              "    <tspan class=\"displacy-word\" fill=\"currentColor\" x=\"575\">pneumonia</tspan>\n",
              "    <tspan class=\"displacy-tag\" dy=\"2em\" fill=\"currentColor\" x=\"575\">PROBLEM</tspan>\n",
              "</text>\n",
              "\n",
              "<g class=\"displacy-arrow\">\n",
              "    <path class=\"displacy-arc\" id=\"arrow-99020c8c77504fe08ec7fce43e3c4b53-0-0\" stroke-width=\"2px\" d=\"M420,89.5 C420,2.0 575.0,2.0 575.0,89.5\" fill=\"none\" stroke=\"currentColor\"/>\n",
              "    <text dy=\"1.25em\" style=\"font-size: 0.8em; letter-spacing: 1px\">\n",
              "        <textPath xlink:href=\"#arrow-99020c8c77504fe08ec7fce43e3c4b53-0-0\" class=\"displacy-label\" startOffset=\"50%\" side=\"left\" fill=\"currentColor\" text-anchor=\"middle\">NEGATED_EXISTENCE</textPath>\n",
              "    </text>\n",
              "    <path class=\"displacy-arrowhead\" d=\"M575.0,91.5 L583.0,79.5 567.0,79.5\" fill=\"currentColor\"/>\n",
              "</g>\n",
              "</svg></span>"
            ],
            "text/plain": [
              "<IPython.core.display.HTML object>"
            ]
          },
          "metadata": {
            "tags": []
          }
        }
      ]
    },
    {
      "cell_type": "markdown",
      "metadata": {
        "id": "uT9nU-PeEHYJ",
        "colab_type": "text"
      },
      "source": [
        "A new attribute is also added to our entity telling us that this entity is negated:"
      ]
    },
    {
      "cell_type": "code",
      "metadata": {
        "id": "us9pfTZqueKb",
        "colab_type": "code",
        "outputId": "e14ab441-b30a-42be-b142-ada15cfd1271",
        "colab": {
          "base_uri": "https://localhost:8080/",
          "height": 34
        }
      },
      "source": [
        "for ent in doc.ents:\n",
        "    print(ent, ent._.is_negated)"
      ],
      "execution_count": 29,
      "outputs": [
        {
          "output_type": "stream",
          "text": [
            "pneumonia True\n"
          ],
          "name": "stdout"
        }
      ]
    },
    {
      "cell_type": "markdown",
      "metadata": {
        "id": "xQTH-U7_3IHq",
        "colab_type": "text"
      },
      "source": [
        "## Beyond negation\n",
        "Clinical text is full of cases where a condition is mentioned, but the patient does not actually have it. In addition to negation, some other cases of this are:\n",
        "- **Experiencer**: Did someone other than the patient experience the problem, such as a family member?\n",
        "    - \"Her _mother_ had breast cancer\"\n",
        "- **Temporality**: Did the condition occur recently or in the past?\n",
        "    - \"Past medical history significant for afib, CHF, and CKD.\"\n",
        "- **Certainty**: Is the diagnosis definite or uncertain?\n",
        "    - \"He presents to the ER for possible COVID-19.\"\n",
        "\n",
        "Let's look at some additional examples of cycontext in action:"
      ]
    },
    {
      "cell_type": "code",
      "metadata": {
        "id": "ya7H_G-9umXK",
        "colab_type": "code",
        "colab": {}
      },
      "source": [
        "texts = [\n",
        "    \"Her mother had breast cancer.\",\n",
        "    \"Past medical history significant for afib, CHF, and CKD.\",\n",
        "    \"He presents to the ER for possible COVID-19.\",\n",
        "    \"Negative for Influenza.\",\n",
        "    \"He is not currently taking any beta blockers.\"\n",
        "    \n",
        "]"
      ],
      "execution_count": 0,
      "outputs": []
    },
    {
      "cell_type": "code",
      "metadata": {
        "id": "JXQl3FnUunm5",
        "colab_type": "code",
        "colab": {}
      },
      "source": [
        "docs = list(nlp.pipe(texts))"
      ],
      "execution_count": 0,
      "outputs": []
    },
    {
      "cell_type": "code",
      "metadata": {
        "id": "v1uQZSjPutYw",
        "colab_type": "code",
        "outputId": "66348a33-53dc-4339-c4f1-6e48919cf67c",
        "colab": {
          "base_uri": "https://localhost:8080/",
          "height": 52
        }
      },
      "source": [
        "doc = docs[4]\n",
        "visualize_ent(doc)"
      ],
      "execution_count": 32,
      "outputs": [
        {
          "output_type": "display_data",
          "data": {
            "text/html": [
              "<span class=\"tex2jax_ignore\"><div class=\"entities\" style=\"line-height: 2.5; direction: ltr\">He \n",
              "<mark class=\"entity\" style=\"background: #ff7f0e; padding: 0.45em 0.6em; margin: 0 0.25em; line-height: 1; border-radius: 0.35em;\">\n",
              "    is not\n",
              "    <span style=\"font-size: 0.8em; font-weight: bold; line-height: 1; border-radius: 0.35em; text-transform: uppercase; vertical-align: middle; margin-left: 0.5rem\">NEGATED_EXISTENCE</span>\n",
              "</mark>\n",
              " currently taking any \n",
              "<mark class=\"entity\" style=\"background: #1f77b4; padding: 0.45em 0.6em; margin: 0 0.25em; line-height: 1; border-radius: 0.35em;\">\n",
              "    beta blockers\n",
              "    <span style=\"font-size: 0.8em; font-weight: bold; line-height: 1; border-radius: 0.35em; text-transform: uppercase; vertical-align: middle; margin-left: 0.5rem\">TREATMENT</span>\n",
              "</mark>\n",
              ".</div></span>"
            ],
            "text/plain": [
              "<IPython.core.display.HTML object>"
            ]
          },
          "metadata": {
            "tags": []
          }
        }
      ]
    },
    {
      "cell_type": "code",
      "metadata": {
        "id": "Veu-TqwLuxNG",
        "colab_type": "code",
        "outputId": "f216334f-b064-4695-d783-9dd39ef14729",
        "colab": {
          "base_uri": "https://localhost:8080/",
          "height": 246
        }
      },
      "source": [
        "visualize_dep(doc)"
      ],
      "execution_count": 33,
      "outputs": [
        {
          "output_type": "display_data",
          "data": {
            "text/html": [
              "<span class=\"tex2jax_ignore\"><svg xmlns=\"http://www.w3.org/2000/svg\" xmlns:xlink=\"http://www.w3.org/1999/xlink\" xml:lang=\"en\" id=\"8f0eace2c55b415291405b869cef0f76-0\" class=\"displacy\" width=\"1275\" height=\"224.5\" direction=\"ltr\" style=\"max-width: none; height: 224.5px; color: #000000; background: #ffffff; font-family: Arial; direction: ltr\">\n",
              "<text class=\"displacy-token\" fill=\"currentColor\" text-anchor=\"middle\" y=\"134.5\">\n",
              "    <tspan class=\"displacy-word\" fill=\"currentColor\" x=\"50\">He</tspan>\n",
              "    <tspan class=\"displacy-tag\" dy=\"2em\" fill=\"currentColor\" x=\"50\"></tspan>\n",
              "</text>\n",
              "\n",
              "<text class=\"displacy-token\" fill=\"currentColor\" text-anchor=\"middle\" y=\"134.5\">\n",
              "    <tspan class=\"displacy-word\" fill=\"currentColor\" x=\"225\">is not</tspan>\n",
              "    <tspan class=\"displacy-tag\" dy=\"2em\" fill=\"currentColor\" x=\"225\"></tspan>\n",
              "</text>\n",
              "\n",
              "<text class=\"displacy-token\" fill=\"currentColor\" text-anchor=\"middle\" y=\"134.5\">\n",
              "    <tspan class=\"displacy-word\" fill=\"currentColor\" x=\"400\">currently</tspan>\n",
              "    <tspan class=\"displacy-tag\" dy=\"2em\" fill=\"currentColor\" x=\"400\"></tspan>\n",
              "</text>\n",
              "\n",
              "<text class=\"displacy-token\" fill=\"currentColor\" text-anchor=\"middle\" y=\"134.5\">\n",
              "    <tspan class=\"displacy-word\" fill=\"currentColor\" x=\"575\">taking</tspan>\n",
              "    <tspan class=\"displacy-tag\" dy=\"2em\" fill=\"currentColor\" x=\"575\"></tspan>\n",
              "</text>\n",
              "\n",
              "<text class=\"displacy-token\" fill=\"currentColor\" text-anchor=\"middle\" y=\"134.5\">\n",
              "    <tspan class=\"displacy-word\" fill=\"currentColor\" x=\"750\">any</tspan>\n",
              "    <tspan class=\"displacy-tag\" dy=\"2em\" fill=\"currentColor\" x=\"750\"></tspan>\n",
              "</text>\n",
              "\n",
              "<text class=\"displacy-token\" fill=\"currentColor\" text-anchor=\"middle\" y=\"134.5\">\n",
              "    <tspan class=\"displacy-word\" fill=\"currentColor\" x=\"925\">beta blockers</tspan>\n",
              "    <tspan class=\"displacy-tag\" dy=\"2em\" fill=\"currentColor\" x=\"925\">TREATMENT</tspan>\n",
              "</text>\n",
              "\n",
              "<text class=\"displacy-token\" fill=\"currentColor\" text-anchor=\"middle\" y=\"134.5\">\n",
              "    <tspan class=\"displacy-word\" fill=\"currentColor\" x=\"1100\">.</tspan>\n",
              "    <tspan class=\"displacy-tag\" dy=\"2em\" fill=\"currentColor\" x=\"1100\"></tspan>\n",
              "</text>\n",
              "\n",
              "<g class=\"displacy-arrow\">\n",
              "    <path class=\"displacy-arc\" id=\"arrow-8f0eace2c55b415291405b869cef0f76-0-0\" stroke-width=\"2px\" d=\"M245,89.5 C245,2.0 925.0,2.0 925.0,89.5\" fill=\"none\" stroke=\"currentColor\"/>\n",
              "    <text dy=\"1.25em\" style=\"font-size: 0.8em; letter-spacing: 1px\">\n",
              "        <textPath xlink:href=\"#arrow-8f0eace2c55b415291405b869cef0f76-0-0\" class=\"displacy-label\" startOffset=\"50%\" side=\"left\" fill=\"currentColor\" text-anchor=\"middle\">NEGATED_EXISTENCE</textPath>\n",
              "    </text>\n",
              "    <path class=\"displacy-arrowhead\" d=\"M925.0,91.5 L933.0,79.5 917.0,79.5\" fill=\"currentColor\"/>\n",
              "</g>\n",
              "</svg></span>"
            ],
            "text/plain": [
              "<IPython.core.display.HTML object>"
            ]
          },
          "metadata": {
            "tags": []
          }
        }
      ]
    },
    {
      "cell_type": "code",
      "metadata": {
        "id": "H4_ZXboi31AA",
        "colab_type": "code",
        "outputId": "423ccb7e-c2a1-4b20-e22e-f1c4cd6c433b",
        "colab": {
          "base_uri": "https://localhost:8080/",
          "height": 34
        }
      },
      "source": [
        "# Check the entity attributes\n",
        "for ent in doc.ents:\n",
        "    print(ent, \"is_negated:\", ent._.is_negated, \"\\t\", \"is_family:\", ent._.is_family, \"\\t\", \"is_historical:\", ent._.is_historical, \"\\t\", \"is_uncertain:\", ent._.is_uncertain)"
      ],
      "execution_count": 34,
      "outputs": [
        {
          "output_type": "stream",
          "text": [
            "beta blockers is_negated: True \t is_family: False \t is_historical: False \t is_uncertain: False\n"
          ],
          "name": "stdout"
        }
      ]
    },
    {
      "cell_type": "code",
      "metadata": {
        "id": "b0fOkzMtyAy6",
        "colab_type": "code",
        "colab": {}
      },
      "source": [
        ""
      ],
      "execution_count": 0,
      "outputs": []
    },
    {
      "cell_type": "markdown",
      "metadata": {
        "id": "iiDoeEtWozy8",
        "colab_type": "text"
      },
      "source": [
        "# V. Next Steps\n",
        "\n",
        "These notebooks provided a very high-level overview of NLP. If you're interested in learning more about Natural Language Processing in Python, here are some resources:\n",
        "\n",
        "- [Advanced NLP with spaCy](https://course.spacy.io/en/): SpaCy's free online course (now available in multiple languages)\n",
        "- [fast.ai NLP course](https://www.fast.ai/2019/07/08/fastai-nlp/): A free online course from fast.ai using PyTorch and the fast.ai library for NLP\n",
        "- [Natural language processing: an introduction.](https://www.ncbi.nlm.nih.gov/pubmed/21846786): A 2011 paper with a good, high-level overview of NLP in medicine\n",
        "- The complete NLP module for UVU's [INFO-3700](https://github.com/abchapman93/info_3700_spring_2020), which includes more in-depth tutorials and interactive examples: \n",
        "- cycontext's GitHub repository: https://github.com/medspacy/cycontext"
      ]
    },
    {
      "cell_type": "code",
      "metadata": {
        "id": "fQcUbC9bozy8",
        "colab_type": "code",
        "colab": {}
      },
      "source": [
        ""
      ],
      "execution_count": 0,
      "outputs": []
    }
  ]
}